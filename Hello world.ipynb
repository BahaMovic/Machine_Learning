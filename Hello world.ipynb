{
 "cells": [
  {
   "cell_type": "code",
   "execution_count": 7,
   "metadata": {
    "collapsed": false
   },
   "outputs": [
    {
     "name": "stdout",
     "output_type": "stream",
     "text": [
      "انتا علق\n"
     ]
    }
   ],
   "source": [
    "from sklearn import tree\n",
    "\n",
    "#are you like studying , waste time ,not do any thing useful\n",
    "features = [[1,1,1],[0,0,0],[1,0,0],[0,1,1]]\n",
    "labels = [1,0,0,1]\n",
    "\n",
    "cls = tree.DecisionTreeClassifier()\n",
    "cls = cls.fit(features,labels)\n",
    "\n",
    "areYouAlk = cls.predict([[0,1,1]]);\n",
    "if areYouAlk :\n",
    "    print(\"انتا علق\")\n",
    "else :\n",
    "    print(\"انتا كويس\")\n",
    "\n"
   ]
  },
  {
   "cell_type": "code",
   "execution_count": null,
   "metadata": {
    "collapsed": true
   },
   "outputs": [],
   "source": []
  },
  {
   "cell_type": "code",
   "execution_count": null,
   "metadata": {
    "collapsed": true
   },
   "outputs": [],
   "source": []
  }
 ],
 "metadata": {
  "kernelspec": {
   "display_name": "Python 3",
   "language": "python",
   "name": "python3"
  },
  "language_info": {
   "codemirror_mode": {
    "name": "ipython",
    "version": 3
   },
   "file_extension": ".py",
   "mimetype": "text/x-python",
   "name": "python",
   "nbconvert_exporter": "python",
   "pygments_lexer": "ipython3",
   "version": "3.6.0"
  }
 },
 "nbformat": 4,
 "nbformat_minor": 2
}
