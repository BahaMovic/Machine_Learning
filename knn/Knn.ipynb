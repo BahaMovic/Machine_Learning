{
 "cells": [
  {
   "cell_type": "code",
   "execution_count": null,
   "metadata": {
    "collapsed": false,
    "scrolled": true
   },
   "outputs": [
    {
     "name": "stdout",
     "output_type": "stream",
     "text": [
      "1039\n",
      "K =  3\n",
      "Accuracy =  52.359550561797754\n",
      "K =  4\n",
      "Accuracy =  52.80898876404494\n",
      "K =  5\n",
      "Accuracy =  55.0561797752809\n",
      "K =  6\n",
      "Accuracy =  53.48314606741573\n",
      "K =  7\n",
      "Accuracy =  54.157303370786515\n",
      "K =  8\n"
     ]
    }
   ],
   "source": [
    "import numpy as np\n",
    "import pandas as pd\n",
    "import math \n",
    "import matplotlib.pyplot as plt\n",
    "from matplotlib.colors import ListedColormap\n",
    "from sklearn import neighbors, datasets\n",
    "import itertools\n",
    "\n",
    "\n",
    "# import some data to play with\n",
    "\n",
    "\n",
    "def loadData(fileName):\n",
    "    df = pd.read_csv(fileName,sep=',',header=None)\n",
    "    X = df[df.columns[0:8]]\n",
    "    y = df[8]\n",
    "    return X.values , y.values\n",
    "\n",
    "\n",
    "\n",
    "def eculidenDistance(x , xi):\n",
    "    d = 0.0\n",
    "    for i in range(len(x)):\n",
    "        d += pow(abs(x[i]-xi[i]),2)\n",
    "    return math.sqrt(d)\n",
    "\n",
    "\n",
    "def getKey(item):\n",
    "    return item[1]\n",
    "\n",
    "def knnPredictor(train,test,k):\n",
    "    X = train[0]\n",
    "    y = train[1]\n",
    "    Xt = test[0]\n",
    "    yt = test[1]\n",
    "    #each record will be index of training data &  distance between new record and record[i] in the training\n",
    "    #[i,distance[i]]\n",
    "    \n",
    "    cnt = 0\n",
    "    for i in range(len(Xt)):\n",
    "        newDataSet = []\n",
    "        for j in range(len(X)):\n",
    "            newDataSet.append([j,eculidenDistance(X[j],Xt[i]),y[j]])\n",
    "            \n",
    "        newDataSet = sorted(newDataSet,key=getKey)\n",
    "        dict = {}\n",
    "        keyOfMaxItem = ''\n",
    "        for item in itertools.islice(newDataSet , 0, k):\n",
    "            key = item[2]\n",
    "            keyOfMaxItem = key\n",
    "            if key in dict:\n",
    "                dict[key] = dict[key] + 1\n",
    "            else:\n",
    "                dict[key] = 1\n",
    "\n",
    "        for key in dict:\n",
    "            if dict[key] >= dict[keyOfMaxItem]:\n",
    "                keyOfMaxItem = key\n",
    "        if keyOfMaxItem == yt[i]:\n",
    "            cnt += 1\n",
    "        #print(\"Predicted class: \", keyOfMaxItem ,dict[keyOfMaxItem] ,\" - Actual Class: \", yt[i])\n",
    "    \n",
    "    accuracy = (float(cnt)/len(Xt))*100\n",
    "    \n",
    "    #print(cnt)\n",
    "    #print(len(Xt))\n",
    "    print(\"Accuracy = \",accuracy)\n",
    "\n",
    "\n",
    "X , y = loadData('TrainData.txt')\n",
    "Xt , yt = loadData('TestData.txt')\n",
    "print(len(y))\n",
    "\n",
    "for k in range(3,9+1):\n",
    "    n_neighbors = k\n",
    "    print(\"K = \",k)\n",
    "    knnPredictor([X,y],[Xt,yt],n_neighbors)\n",
    "\n",
    "\n",
    "\n"
   ]
  },
  {
   "cell_type": "code",
   "execution_count": null,
   "metadata": {
    "collapsed": true
   },
   "outputs": [],
   "source": []
  }
 ],
 "metadata": {
  "kernelspec": {
   "display_name": "Python 3",
   "language": "python",
   "name": "python3"
  },
  "language_info": {
   "codemirror_mode": {
    "name": "ipython",
    "version": 3
   },
   "file_extension": ".py",
   "mimetype": "text/x-python",
   "name": "python",
   "nbconvert_exporter": "python",
   "pygments_lexer": "ipython3",
   "version": "3.6.0"
  }
 },
 "nbformat": 4,
 "nbformat_minor": 2
}
